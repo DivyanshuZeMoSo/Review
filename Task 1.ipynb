{
 "cells": [
  {
   "cell_type": "raw",
   "id": "ee43b061-96e6-4609-952e-67f5cb852384",
   "metadata": {},
   "source": [
    "Task - 1 : You are given a list of integers where each number appears twice, except for one unique number that appears only once. \n",
    "Example : \n",
    "Input: [4, 1, 2, 1, 2]  \n",
    "Output: 4  "
   ]
  },
  {
   "cell_type": "code",
   "execution_count": 1,
   "id": "59a919e0-9ff4-49b1-8de6-a56d8270b6ed",
   "metadata": {},
   "outputs": [
    {
     "name": "stdin",
     "output_type": "stream",
     "text": [
      "Enter list of numbers :  [1, 2, 3, 2, 1]\n"
     ]
    },
    {
     "name": "stdout",
     "output_type": "stream",
     "text": [
      "Unique number in the list of numbers provided : 3\n"
     ]
    }
   ],
   "source": [
    "def unique(list_of_numbers : [int]) -> int :\n",
    "    result = 0\n",
    "    for number in list_of_numbers :\n",
    "        result ^= number\n",
    "    return result\n",
    "\n",
    "\n",
    "if __name__ == \"__main__\" :\n",
    "    list_of_numbers = eval(input(\"Enter list of numbers : \"))\n",
    "    print(\"Unique number in the list of numbers provided :\",unique(list_of_numbers))"
   ]
  }
 ],
 "metadata": {
  "kernelspec": {
   "display_name": "Python 3 (ipykernel)",
   "language": "python",
   "name": "python3"
  },
  "language_info": {
   "codemirror_mode": {
    "name": "ipython",
    "version": 3
   },
   "file_extension": ".py",
   "mimetype": "text/x-python",
   "name": "python",
   "nbconvert_exporter": "python",
   "pygments_lexer": "ipython3",
   "version": "3.12.2"
  }
 },
 "nbformat": 4,
 "nbformat_minor": 5
}
