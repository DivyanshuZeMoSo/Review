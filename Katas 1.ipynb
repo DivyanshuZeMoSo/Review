{
 "cells": [
  {
   "cell_type": "raw",
   "id": "0f08b547-efaa-4ab5-9e6a-406e2129bb80",
   "metadata": {},
   "source": [
    "### Problem 1\n",
    "\n",
    "**Generating Song Lyrics with NumPy**\n",
    "\n",
    "**Scenario:** You are working on a RAG-based application that generates creative text formats like song lyrics. You have a dataset of existing popular song lyrics stored in a CSV file. Your task is to use NumPy to:\n",
    "\n",
    "1. Load the song lyrics data from the CSV file.\n",
    "2. Preprocess the data by converting all lyrics to lowercase and removing punctuation.\n",
    "3. Use NumPy to create a random sample of 10 song lyrics from the dataset."
   ]
  },
  {
   "cell_type": "code",
   "execution_count": 1,
   "id": "f532be7e-0c47-4ccd-a9c8-9ea20368d585",
   "metadata": {},
   "outputs": [
    {
     "name": "stdout",
     "output_type": "stream",
     "text": [
      "Randomly Sampled Song Lyrics:\n",
      "\n",
      "1. my heart will go on\n",
      "\n",
      "2. dont stop believin\n",
      "\n",
      "3. shake it off shake it off\n",
      "\n",
      "4. we are the champions my friend\n",
      "\n",
      "5. mmm mmm mmm mmm\n",
      "\n",
      "6. i wanna dance with somebody who loves me\n",
      "\n",
      "7. cant stop the feeling so excited\n",
      "\n",
      "8. work work work work work work\n",
      "\n",
      "9. a little bit of monica in my life\n",
      "\n",
      "10. like a prayer like a prayer\n",
      "\n"
     ]
    }
   ],
   "source": [
    "import numpy as np\n",
    "import pandas as pd\n",
    "import string\n",
    "\n",
    "\n",
    "def load_and_clean_lyrics(filepath: str) -> pd.Series:\n",
    "    df = pd.read_csv(filepath)\n",
    "    \n",
    "    df.columns = df.columns.str.lower()\n",
    "    \n",
    "    if 'lyrics' not in df.columns:\n",
    "        raise KeyError(\"Expected a column named 'Lyrics' or 'lyrics' in the CSV file.\")\n",
    "\n",
    "    df.dropna(subset=['lyrics'], inplace=True)\n",
    "    df = df[df['lyrics'].str.strip() != '']\n",
    "\n",
    "    translator = str.maketrans('', '', string.punctuation)\n",
    "    df['lyrics'] = df['lyrics'].str.lower().str.translate(translator)\n",
    "\n",
    "    return df['lyrics']\n",
    "\n",
    "\n",
    "def sample_lyrics(lyrics: pd.Series, sample_size: int = 10) -> pd.Series:\n",
    "    if len(lyrics) < sample_size:\n",
    "        raise ValueError(f\"Not enough lyrics to sample {sample_size} unique lines.\")\n",
    "    indices = np.random.choice(lyrics.index, size=sample_size, replace=False)\n",
    "    return lyrics.loc[indices]\n",
    "\n",
    "\n",
    "if __name__ == \"__main__\":\n",
    "    lyrics_series = load_and_clean_lyrics(\"lyrics.csv\")\n",
    "    sampled = sample_lyrics(lyrics_series)\n",
    "\n",
    "    print(\"Randomly Sampled Song Lyrics:\\n\")\n",
    "    for i, lyric in enumerate(sampled, start=1):\n",
    "        print(f\"{i}. {lyric}\\n\")\n"
   ]
  }
 ],
 "metadata": {
  "kernelspec": {
   "display_name": "Python 3 (ipykernel)",
   "language": "python",
   "name": "python3"
  },
  "language_info": {
   "codemirror_mode": {
    "name": "ipython",
    "version": 3
   },
   "file_extension": ".py",
   "mimetype": "text/x-python",
   "name": "python",
   "nbconvert_exporter": "python",
   "pygments_lexer": "ipython3",
   "version": "3.12.2"
  }
 },
 "nbformat": 4,
 "nbformat_minor": 5
}
