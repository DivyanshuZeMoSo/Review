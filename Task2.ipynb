{
 "cells": [
  {
   "cell_type": "raw",
   "id": "b06f2d4e-e714-4c19-8b24-5bcaad72d095",
   "metadata": {},
   "source": [
    "Task - 2 : Create a class BankAccount that allows a user to deposit, withdraw, and check the balance. Implement encapsulation so that the balance cannot be accessed directly but only through methods.\n",
    "\n",
    "Requirements:\n",
    "\n",
    "deposit(amount): Adds amount to the balance.\n",
    "withdraw(amount): Deducts amount from the balance if sufficient funds exist.\n",
    "get_balance(): Returns the current balance.\n",
    "The balance should be private and should not be directly accessible.\n",
    "\n",
    "Example usage :\n",
    "\n",
    "acc = BankAccount(1000)  \n",
    "acc.deposit(500)  \n",
    "acc.withdraw(300)  \n",
    "print(acc.get_balance())  # Output: 1200  \n",
    "\n",
    "print(acc.__balance)  # This should raise an AttributeError  "
   ]
  },
  {
   "cell_type": "code",
   "execution_count": 3,
   "id": "69deb755-d835-4518-858a-85bf8fb2174b",
   "metadata": {},
   "outputs": [
    {
     "name": "stdin",
     "output_type": "stream",
     "text": [
      "Enter initial amount :  1000\n"
     ]
    },
    {
     "name": "stdout",
     "output_type": "stream",
     "text": [
      "Current balance : 1000.0\n"
     ]
    },
    {
     "name": "stdin",
     "output_type": "stream",
     "text": [
      "Enter amount to be deposited :  200\n",
      "Enter amount for withdrawl :  1300\n"
     ]
    },
    {
     "name": "stdout",
     "output_type": "stream",
     "text": [
      "Current balance : 1000.0\n",
      "Accessing the private attribute is inhibited\n"
     ]
    }
   ],
   "source": [
    "class NegativeAmount(Exception) :\n",
    "    def __init__(self) :\n",
    "        print(\"The amount entered is inapplicable\")\n",
    "\n",
    "\n",
    "class InsufficientAmount(Exception) :\n",
    "    def __init__(self) :\n",
    "        print(\"The amount is insufficient in the acoount\")\n",
    "\n",
    "class BankAccount :\n",
    "    def __init__(self, initial_amount: float = 0.0) -> None:\n",
    "        self.__balance = initial_amount\n",
    "        \n",
    "    def deposit(self, amount_to_be_deposited : float) -> None :\n",
    "        if amount_to_be_deposited <=0 :\n",
    "            raise NegativeAmount()\n",
    "        self.__balance += amount_to_be_deposited\n",
    "        \n",
    "    def withdraw(self, amount_for_withdrawl : float) -> None :\n",
    "        if self.__balance - amount_for_withdrawl < 0:\n",
    "            raise InsufficientAmount()\n",
    "        self.__balance -= amount_for_withdrawl\n",
    "\n",
    "    def get_balance(self) -> float:\n",
    "        return self.__balance\n",
    "\n",
    "\n",
    "if __name__==\"__main__\" :\n",
    "    try :\n",
    "        initial_amount = float(input(\"Enter initial amount : \"))\n",
    "        account = BankAccount(initial_amount)\n",
    "        print(\"Current balance :\",account.get_balance())\n",
    "        amount_to_be_deposited = float(input(\"Enter amount to be deposited : \"))\n",
    "        amount_for_withdrawl = float(input(\"Enter amount for withdrawl : \"))\n",
    "        print(\"Current balance :\",account.get_balance())\n",
    "    \n",
    "    except NegativeAmount as e :\n",
    "        print(e)\n",
    "\n",
    "    except InsufficientAmount as e :\n",
    "        print(e)\n",
    "\n",
    "\n",
    "\n",
    "    try :\n",
    "        print(account.__balance)\n",
    "    except AttributeError :\n",
    "        print(\"Accessing the private attribute is inhibited\")\n"
   ]
  }
 ],
 "metadata": {
  "kernelspec": {
   "display_name": "Python 3 (ipykernel)",
   "language": "python",
   "name": "python3"
  },
  "language_info": {
   "codemirror_mode": {
    "name": "ipython",
    "version": 3
   },
   "file_extension": ".py",
   "mimetype": "text/x-python",
   "name": "python",
   "nbconvert_exporter": "python",
   "pygments_lexer": "ipython3",
   "version": "3.12.2"
  }
 },
 "nbformat": 4,
 "nbformat_minor": 5
}
